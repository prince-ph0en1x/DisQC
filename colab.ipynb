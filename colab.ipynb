{
  "nbformat": 4,
  "nbformat_minor": 0,
  "metadata": {
    "colab": {
      "name": "colab.ipynb",
      "provenance": [],
      "collapsed_sections": [],
      "authorship_tag": "ABX9TyMtA3azFhaxQytyWLGPCT7F"
    },
    "kernelspec": {
      "name": "python3",
      "display_name": "Python 3"
    }
  },
  "cells": [
    {
      "cell_type": "code",
      "metadata": {
        "id": "Pg6WONdI9zsm",
        "colab_type": "code",
        "colab": {
          "base_uri": "https://localhost:8080/",
          "height": 34
        },
        "outputId": "0e62448a-fdbf-4712-f155-5d4126870559"
      },
      "source": [
        "2+3"
      ],
      "execution_count": null,
      "outputs": [
        {
          "output_type": "execute_result",
          "data": {
            "text/plain": [
              "5"
            ]
          },
          "metadata": {
            "tags": []
          },
          "execution_count": 1
        }
      ]
    },
    {
      "cell_type": "markdown",
      "metadata": {
        "id": "yrmj3lP9Ayek",
        "colab_type": "text"
      },
      "source": [
        "Take 3 qubits, thus 8 states.\n",
        "We put them to a random unequal (normalized) superposition."
      ]
    },
    {
      "cell_type": "code",
      "metadata": {
        "id": "gEZq8gbpB2jN",
        "colab_type": "code",
        "colab": {
          "base_uri": "https://localhost:8080/",
          "height": 119
        },
        "outputId": "b3440150-df0f-443e-f31b-99b3b7563386"
      },
      "source": [
        "import numpy as np\n",
        "state = np.random.rand(8)\n",
        "print(state)\n",
        "# Normalize\n",
        "sumState = sum(np.square(state))\n",
        "print(sumState)\n",
        "state = state / np.sqrt(sumState)\n",
        "sumState = sum(np.square(state))\n",
        "print(sumState)\n",
        "print(\"Normalized state vector:\",state)"
      ],
      "execution_count": 36,
      "outputs": [
        {
          "output_type": "stream",
          "text": [
            "[0.19177942 0.13731726 0.21778154 0.27618887 0.90798355 0.92298337\n",
            " 0.11690337 0.71980898]\n",
            "2.387468280616641\n",
            "1.0\n",
            "Normalized state vector: [0.12411755 0.08887023 0.14094584 0.17874643 0.58763706 0.59734478\n",
            " 0.07565859 0.46585253]\n"
          ],
          "name": "stdout"
        }
      ]
    }
  ]
}