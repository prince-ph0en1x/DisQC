{
  "nbformat": 4,
  "nbformat_minor": 0,
  "metadata": {
    "colab": {
      "name": "colab.ipynb",
      "provenance": [],
      "collapsed_sections": [],
      "authorship_tag": "ABX9TyM77cFAe15sMtjGOxvL8wXf"
    },
    "kernelspec": {
      "name": "python3",
      "display_name": "Python 3"
    }
  },
  "cells": [
    {
      "cell_type": "code",
      "metadata": {
        "id": "Pg6WONdI9zsm",
        "colab_type": "code",
        "colab": {
          "base_uri": "https://localhost:8080/",
          "height": 34
        },
        "outputId": "0e62448a-fdbf-4712-f155-5d4126870559"
      },
      "source": [
        "2+3"
      ],
      "execution_count": null,
      "outputs": [
        {
          "output_type": "execute_result",
          "data": {
            "text/plain": [
              "5"
            ]
          },
          "metadata": {
            "tags": []
          },
          "execution_count": 1
        }
      ]
    },
    {
      "cell_type": "markdown",
      "metadata": {
        "id": "yrmj3lP9Ayek",
        "colab_type": "text"
      },
      "source": [
        "Take 3 qubits, thus 8 states.\n",
        "We put them to a random unequal (normalized) superposition."
      ]
    },
    {
      "cell_type": "code",
      "metadata": {
        "id": "gEZq8gbpB2jN",
        "colab_type": "code",
        "colab": {
          "base_uri": "https://localhost:8080/",
          "height": 119
        },
        "outputId": "b3440150-df0f-443e-f31b-99b3b7563386"
      },
      "source": [
        "import numpy as np\n",
        "state = np.random.rand(8)\n",
        "print(state)\n",
        "# Normalize\n",
        "sumState = sum(np.square(state))\n",
        "print(sumState)\n",
        "state = state / np.sqrt(sumState)\n",
        "sumState = sum(np.square(state))\n",
        "print(sumState)\n",
        "print(\"Normalized state vector:\",state)"
      ],
      "execution_count": null,
      "outputs": [
        {
          "output_type": "stream",
          "text": [
            "[0.19177942 0.13731726 0.21778154 0.27618887 0.90798355 0.92298337\n",
            " 0.11690337 0.71980898]\n",
            "2.387468280616641\n",
            "1.0\n",
            "Normalized state vector: [0.12411755 0.08887023 0.14094584 0.17874643 0.58763706 0.59734478\n",
            " 0.07565859 0.46585253]\n"
          ],
          "name": "stdout"
        }
      ]
    },
    {
      "cell_type": "markdown",
      "metadata": {
        "id": "uNU0HRJLaO5N",
        "colab_type": "text"
      },
      "source": [
        "Hadamard: (a, b) --> ((a+b)/sqrt(2), (a-b)/sqrt(2))"
      ]
    },
    {
      "cell_type": "code",
      "metadata": {
        "id": "D1gDjtAyJGrF",
        "colab_type": "code",
        "colab": {
          "base_uri": "https://localhost:8080/",
          "height": 68
        },
        "outputId": "2dac4630-5e9b-4e47-ccd3-76db850e8ee9"
      },
      "source": [
        "import sympy as sp\n",
        "a0 = sp.symbols('a0')\n",
        "a1 = sp.symbols('a1')\n",
        "a0new = (a0+a1)/np.sqrt(2)\n",
        "a1new = (a0-a1)/np.sqrt(2)\n",
        "print(a0new)\n",
        "res = a0new.subs([(a0,1),(a1,0)])\n",
        "print(res)\n",
        "res = a1new.subs([(a0,1),(a1,0)])\n",
        "print(res)"
      ],
      "execution_count": null,
      "outputs": [
        {
          "output_type": "stream",
          "text": [
            "0.707106781186548*a0 + 0.707106781186548*a1\n",
            "0.707106781186548\n",
            "0.707106781186548\n"
          ],
          "name": "stdout"
        }
      ]
    },
    {
      "cell_type": "code",
      "metadata": {
        "id": "qWEVJdenRCDn",
        "colab_type": "code",
        "colab": {
          "base_uri": "https://localhost:8080/",
          "height": 68
        },
        "outputId": "6e111a98-0d93-437b-e9f4-186f2ae42c0c"
      },
      "source": [
        "import numpy as np\n",
        "num_qb = 1\n",
        "state = np.random.rand(2**num_qb)\n",
        "sumState = sum(np.square(state))\n",
        "state = state / np.sqrt(sumState) # Normalize\n",
        "print(\"Normalized state vector:\",state)\n",
        "\n",
        "import sympy as sp\n",
        "a0 = sp.symbols('a0')\n",
        "a1 = sp.symbols('a1')\n",
        "gate_H = sp.Matrix([(a0+a1)/np.sqrt(2), (a0-a1)/np.sqrt(2)])\n",
        "print(\"Symbolic H:\",gate_H)\n",
        "\n",
        "# H q[0]\n",
        "state = np.array(gate_H.subs([(a0,state[0]),(a1,state[1])])).astype(np.float64).flatten()\n",
        "print(\"State after H-gate:\",state)"
      ],
      "execution_count": null,
      "outputs": [
        {
          "output_type": "stream",
          "text": [
            "Normalized state vector: [0.64344095 0.76549575]\n",
            "Symbolic H: Matrix([[0.707106781186548*a0 + 0.707106781186548*a1], [0.707106781186548*a0 - 0.707106781186548*a1]])\n",
            "State after H-gate: [ 0.9962687  -0.08630578]\n"
          ],
          "name": "stdout"
        }
      ]
    },
    {
      "cell_type": "markdown",
      "metadata": {
        "id": "P_j6t0RDacqj",
        "colab_type": "text"
      },
      "source": [
        "Read qasm file from GitHub"
      ]
    },
    {
      "cell_type": "code",
      "metadata": {
        "id": "qQXSUNu1UY3_",
        "colab_type": "code",
        "colab": {
          "base_uri": "https://localhost:8080/",
          "height": 119
        },
        "outputId": "9216016b-0a99-4ec2-b9e9-ce13d3999a23"
      },
      "source": [
        "import pandas as pd\n",
        "url = 'https://raw.githubusercontent.com/prince-ph0en1x/DisQC/master/epr.qasm'\n",
        "qasm = pd.read_csv(url,sep=\"\\n\",header=None)\n",
        "for i in range(0,len(qasm[0])):\n",
        "  print(qasm[0][i])"
      ],
      "execution_count": null,
      "outputs": [
        {
          "output_type": "stream",
          "text": [
            "version 1.0\n",
            "# this file has been automatically generated by the OpenQL compiler please do not modify it manually.\n",
            "qubits 2\n",
            ".kname\n",
            "    h q[0]\n",
            "    cnot q[0],q[1]\n"
          ],
          "name": "stdout"
        }
      ]
    },
    {
      "cell_type": "markdown",
      "metadata": {
        "id": "1SVR23-edz2L",
        "colab_type": "text"
      },
      "source": [
        "Hadamard on 1 qubits when there are 2 qubits"
      ]
    },
    {
      "cell_type": "code",
      "metadata": {
        "id": "KBKdJHRrd4Zr",
        "colab_type": "code",
        "colab": {
          "base_uri": "https://localhost:8080/",
          "height": 119
        },
        "outputId": "21ee3e7d-f435-40b4-c099-a5c42c438019"
      },
      "source": [
        "import numpy as np\n",
        "num_qb = 2\n",
        "state = np.random.rand(2**num_qb)\n",
        "sumState = sum(np.square(state))\n",
        "state = state / np.sqrt(sumState) # Normalize\n",
        "print(\"Normalized state vector:\",state)\n",
        "\n",
        "import sympy as sp\n",
        "a0 = sp.symbols('a0')\n",
        "a1 = sp.symbols('a1')\n",
        "gate_H = sp.Matrix([(a0+a1)/np.sqrt(2), (a0-a1)/np.sqrt(2)])\n",
        "print(\"Symbolic H:\",gate_H)\n",
        "\n",
        "'''\n",
        "b00,b01,b10,b11 = sp.symbols('b00 b01 b10 b11')\n",
        "gate_IH = (gate_H.subs([(a0,b00),(a1,b01)]) + gate_H.subs([(a0,b10),(a1,b11)]))\n",
        "#gate_IH = (np.array(gate_H.subs([(a0,b00),(a1,b01)])).flatten() + np.array(gate_H.subs([(a0,b10),(a1,b11)])).flatten())/2\n",
        "print(\"Symbolic IH:\",gate_IH)\n",
        "state = np.array(gate_IH.subs([(b00,state[0]),(b01,state[1]),(b10,state[2]),(b11,state[3])])).astype(np.float64).flatten()\n",
        "print(\"State after IH-gate:\",state)\n",
        "'''\n",
        "\n",
        "# H q[0]\n",
        "state = [0, 0, -1, 0]\n",
        "state0 = np.array(gate_H.subs([(a0,state[0]),(a1,state[1])])).astype(np.float64).flatten()\n",
        "state1 = np.array(gate_H.subs([(a0,state[2]),(a1,state[3])])).astype(np.float64).flatten()\n",
        "print(\"State after H-gate on q[0]:\",np.hstack((state0,state1)))\n",
        "\n",
        "# H q[1]\n",
        "state = [1, 0, 0, 0]\n",
        "state0 = np.array(gate_H.subs([(a0,state[0]),(a1,state[2])])).astype(np.float64).flatten()\n",
        "state1 = np.array(gate_H.subs([(a0,state[1]),(a1,state[3])])).astype(np.float64).flatten()\n",
        "print(\"State after H-gate on q[1]:\",np.dstack((state0,state1)).flatten())"
      ],
      "execution_count": 50,
      "outputs": [
        {
          "output_type": "stream",
          "text": [
            "Normalized state vector: [0.52266398 0.47516866 0.05528715 0.70567729]\n",
            "Symbolic H: Matrix([[0.707106781186548*a0 + 0.707106781186548*a1], [0.707106781186548*a0 - 0.707106781186548*a1]])\n",
            "State after H-gate on q[0]: [ 0.          0.         -0.70710678 -0.70710678]\n",
            "State after H-gate on q[1]: [0.70710678 0.         0.70710678 0.        ]\n",
            "State after H-gate on q[1]: [[[0.70710678 0.        ]\n",
            "  [0.70710678 0.        ]]]\n"
          ],
          "name": "stdout"
        }
      ]
    },
    {
      "cell_type": "markdown",
      "metadata": {
        "id": "brAkdt56wqGd",
        "colab_type": "text"
      },
      "source": [
        "All 1-qubit gate support"
      ]
    },
    {
      "cell_type": "code",
      "metadata": {
        "id": "_Yx1otSUwyMI",
        "colab_type": "code",
        "colab": {}
      },
      "source": [
        "import sympy as sp\n",
        "import numpy as np\n",
        "\n",
        "# 1-qubit gates\n",
        "a0 = sp.symbols('a0')\n",
        "a1 = sp.symbols('a1')\n",
        "th = sp.symbols('th')\n",
        "\n",
        "#gate_U1 = sp.Matrix([(a0+a1)/np.sqrt(2), (a0-a1)/np.sqrt(2)])\n",
        "gate_I = sp.Matrix([a0, a1])\n",
        "gate_H = sp.Matrix([(a0+a1)/np.sqrt(2), (a0-a1)/np.sqrt(2)])\n",
        "gate_X = sp.Matrix([a1, a0])\n",
        "gate_Y = sp.Matrix([1j*a1, -1j*a0])\n",
        "gate_Z = sp.Matrix([a0, -a1])\n",
        "gate_RX = sp.Matrix([sp.cos(th/2)*a0-1j*sp.sin(th/2)*a1, -1j*sp.sin(th/2)*a0+sp.cos(th/2)*a1])\n",
        "gate_RY = sp.Matrix([sp.cos(th/2)*a0-sp.sin(th/2)*a1, sp.sin(th/2)*a0+sp.cos(th/2)*a1])\n",
        "gate_RZ = sp.Matrix([sp.exp(-1j*th/2)*a0, sp.exp(1j*th/2)*a1])\n",
        "gate_S = sp.Matrix([a0, 1j*a1])\n",
        "gate_T = sp.Matrix([a0, sp.exp(1j*np.pi/4)*a1])"
      ],
      "execution_count": 55,
      "outputs": []
    }
  ]
}