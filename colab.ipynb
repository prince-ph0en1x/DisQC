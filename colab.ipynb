{
  "nbformat": 4,
  "nbformat_minor": 0,
  "metadata": {
    "colab": {
      "name": "colab.ipynb",
      "provenance": [],
      "collapsed_sections": [],
      "authorship_tag": "ABX9TyM1CzLfHJ49D0/ysRrjJzqM"
    },
    "kernelspec": {
      "name": "python3",
      "display_name": "Python 3"
    }
  },
  "cells": [
    {
      "cell_type": "code",
      "metadata": {
        "id": "Pg6WONdI9zsm",
        "colab_type": "code",
        "colab": {
          "base_uri": "https://localhost:8080/",
          "height": 34
        },
        "outputId": "0e62448a-fdbf-4712-f155-5d4126870559"
      },
      "source": [
        "2+3"
      ],
      "execution_count": null,
      "outputs": [
        {
          "output_type": "execute_result",
          "data": {
            "text/plain": [
              "5"
            ]
          },
          "metadata": {
            "tags": []
          },
          "execution_count": 1
        }
      ]
    },
    {
      "cell_type": "markdown",
      "metadata": {
        "id": "yrmj3lP9Ayek",
        "colab_type": "text"
      },
      "source": [
        "Take 3 qubits, thus 8 states.\n",
        "We put them to a random unequal (normalized) superposition."
      ]
    },
    {
      "cell_type": "code",
      "metadata": {
        "id": "gEZq8gbpB2jN",
        "colab_type": "code",
        "colab": {
          "base_uri": "https://localhost:8080/",
          "height": 119
        },
        "outputId": "b3440150-df0f-443e-f31b-99b3b7563386"
      },
      "source": [
        "import numpy as np\n",
        "state = np.random.rand(8)\n",
        "print(state)\n",
        "# Normalize\n",
        "sumState = sum(np.square(state))\n",
        "print(sumState)\n",
        "state = state / np.sqrt(sumState)\n",
        "sumState = sum(np.square(state))\n",
        "print(sumState)\n",
        "print(\"Normalized state vector:\",state)"
      ],
      "execution_count": null,
      "outputs": [
        {
          "output_type": "stream",
          "text": [
            "[0.19177942 0.13731726 0.21778154 0.27618887 0.90798355 0.92298337\n",
            " 0.11690337 0.71980898]\n",
            "2.387468280616641\n",
            "1.0\n",
            "Normalized state vector: [0.12411755 0.08887023 0.14094584 0.17874643 0.58763706 0.59734478\n",
            " 0.07565859 0.46585253]\n"
          ],
          "name": "stdout"
        }
      ]
    },
    {
      "cell_type": "code",
      "metadata": {
        "id": "D1gDjtAyJGrF",
        "colab_type": "code",
        "colab": {
          "base_uri": "https://localhost:8080/",
          "height": 68
        },
        "outputId": "2dac4630-5e9b-4e47-ccd3-76db850e8ee9"
      },
      "source": [
        "# Ravi's technique using SymPy\n",
        "# Hadamard: a b --> (a+b)/sqrt(2) (a-b)/sqrt(2)\n",
        "import sympy as sp\n",
        "a0 = sp.symbols('a0')\n",
        "a1 = sp.symbols('a1')\n",
        "a0new = (a0+a1)/np.sqrt(2)\n",
        "a1new = (a0-a1)/np.sqrt(2)\n",
        "print(a0new)\n",
        "res = a0new.subs([(a0,1),(a1,0)])\n",
        "print(res)\n",
        "res = a1new.subs([(a0,1),(a1,0)])\n",
        "print(res)"
      ],
      "execution_count": 55,
      "outputs": [
        {
          "output_type": "stream",
          "text": [
            "0.707106781186548*a0 + 0.707106781186548*a1\n",
            "0.707106781186548\n",
            "0.707106781186548\n"
          ],
          "name": "stdout"
        }
      ]
    },
    {
      "cell_type": "code",
      "metadata": {
        "id": "qWEVJdenRCDn",
        "colab_type": "code",
        "colab": {
          "base_uri": "https://localhost:8080/",
          "height": 68
        },
        "outputId": "6e111a98-0d93-437b-e9f4-186f2ae42c0c"
      },
      "source": [
        "import numpy as np\n",
        "num_qb = 1\n",
        "state = np.random.rand(2**num_qb)\n",
        "sumState = sum(np.square(state))\n",
        "state = state / np.sqrt(sumState) # Normalize\n",
        "print(\"Normalized state vector:\",state)\n",
        "\n",
        "import sympy as sp\n",
        "a0 = sp.symbols('a0')\n",
        "a1 = sp.symbols('a1')\n",
        "gate_H = sp.Matrix([(a0+a1)/np.sqrt(2), (a0-a1)/np.sqrt(2)])\n",
        "print(\"Symbolic H:\",gate_H)\n",
        "\n",
        "# H q[0]\n",
        "state = np.array(gate_H.subs([(a0,state[0]),(a1,state[1])])).astype(np.float64).flatten()\n",
        "print(\"State after H-gate:\",state)"
      ],
      "execution_count": 87,
      "outputs": [
        {
          "output_type": "stream",
          "text": [
            "Normalized state vector: [0.64344095 0.76549575]\n",
            "Symbolic H: Matrix([[0.707106781186548*a0 + 0.707106781186548*a1], [0.707106781186548*a0 - 0.707106781186548*a1]])\n",
            "State after H-gate: [ 0.9962687  -0.08630578]\n"
          ],
          "name": "stdout"
        }
      ]
    }
  ]
}